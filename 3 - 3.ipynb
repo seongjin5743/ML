{
 "cells": [
  {
   "cell_type": "code",
   "execution_count": 5,
   "id": "6294e511-cbb0-497d-88a4-cd41352da4ad",
   "metadata": {},
   "outputs": [],
   "source": [
    "import pandas as pd\n",
    "df = pd.read_csv('data/Fish.csv')\n",
    "p_data = df.loc[df['Species'] == 'Perch']\n",
    "p_full = p_data[['Length2', 'Height', 'Width']]\n",
    "p_weight = p_data[['Weight']]"
   ]
  },
  {
   "cell_type": "code",
   "execution_count": 6,
   "id": "a50dfcfa-311e-43c2-b926-566217540452",
   "metadata": {},
   "outputs": [],
   "source": [
    "from sklearn.model_selection import train_test_split\n",
    "train_input, test_input, train_target, test_target = train_test_split(p_full, p_weight)"
   ]
  },
  {
   "cell_type": "code",
   "execution_count": 9,
   "id": "bd342b24-4d68-48d9-96ad-490b7b84e7c5",
   "metadata": {},
   "outputs": [
    {
     "data": {
      "text/plain": [
       "array([[ 3.,  5.,  9., 15., 25.]])"
      ]
     },
     "execution_count": 9,
     "metadata": {},
     "output_type": "execute_result"
    }
   ],
   "source": [
    "from sklearn.preprocessing import PolynomialFeatures\n",
    "poly = PolynomialFeatures(include_bias = False)\n",
    "poly.fit([[3,5]])\n",
    "poly.transform([[3,5]])"
   ]
  },
  {
   "cell_type": "code",
   "execution_count": 17,
   "id": "486eed2c-0959-451f-820e-ba198590e561",
   "metadata": {},
   "outputs": [
    {
     "name": "stdout",
     "output_type": "stream",
     "text": [
      "(42, 9)\n"
     ]
    },
    {
     "data": {
      "text/plain": [
       "array(['Length2', 'Height', 'Width', 'Length2^2', 'Length2 Height',\n",
       "       'Length2 Width', 'Height^2', 'Height Width', 'Width^2'],\n",
       "      dtype=object)"
      ]
     },
     "execution_count": 17,
     "metadata": {},
     "output_type": "execute_result"
    }
   ],
   "source": [
    "poly = PolynomialFeatures(include_bias = False)\n",
    "poly.fit(train_input)\n",
    "train_poly = poly.transform(train_input)\n",
    "print(train_poly.shape)\n",
    "poly.get_feature_names_out()"
   ]
  },
  {
   "cell_type": "code",
   "execution_count": 18,
   "id": "491f2338-c252-4cbd-b140-9a2ace63b493",
   "metadata": {},
   "outputs": [
    {
     "data": {
      "text/plain": [
       "0.9926478738384114"
      ]
     },
     "execution_count": 18,
     "metadata": {},
     "output_type": "execute_result"
    }
   ],
   "source": [
    "from sklearn.linear_model import LinearRegression\n",
    "lr = LinearRegression()\n",
    "lr.fit(train_poly, train_target)\n",
    "lr.score(train_poly, train_target)"
   ]
  },
  {
   "cell_type": "code",
   "execution_count": 19,
   "id": "529e7284-2fc9-4737-80c2-0562513c74d2",
   "metadata": {},
   "outputs": [
    {
     "data": {
      "text/plain": [
       "0.9684048075188553"
      ]
     },
     "execution_count": 19,
     "metadata": {},
     "output_type": "execute_result"
    }
   ],
   "source": [
    "test_poly = poly.transform(test_input)\n",
    "lr.score(test_poly, test_target)"
   ]
  },
  {
   "cell_type": "code",
   "execution_count": null,
   "id": "5522fbae-01e0-4376-aa7e-f6247545aec0",
   "metadata": {},
   "outputs": [],
   "source": []
  }
 ],
 "metadata": {
  "kernelspec": {
   "display_name": "Python 3 (ipykernel)",
   "language": "python",
   "name": "python3"
  },
  "language_info": {
   "codemirror_mode": {
    "name": "ipython",
    "version": 3
   },
   "file_extension": ".py",
   "mimetype": "text/x-python",
   "name": "python",
   "nbconvert_exporter": "python",
   "pygments_lexer": "ipython3",
   "version": "3.13.2"
  }
 },
 "nbformat": 4,
 "nbformat_minor": 5
}
