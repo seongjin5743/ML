{
 "cells": [
  {
   "cell_type": "code",
   "execution_count": 4,
   "id": "e058c55b-8f67-4e3f-b656-ad9cc18f14c4",
   "metadata": {},
   "outputs": [
    {
     "name": "stdout",
     "output_type": "stream",
     "text": [
      "최적의 하이퍼파라미터 조합: {'max_depth': 10, 'max_features': 'sqrt', 'min_samples_leaf': 1, 'min_samples_split': 5, 'n_estimators': 100, 'random_state': 42}\n",
      "최적의: 0.8372983491306257\n",
      "Your submission was successfully saved!\n"
     ]
    }
   ],
   "source": [
    "import pandas as pd\n",
    "from sklearn.ensemble import RandomForestClassifier\n",
    "from sklearn.model_selection import cross_validate, GridSearchCV\n",
    "\n",
    "train_data = pd.read_csv(\"data/train.csv\")\n",
    "train_data = train_data.drop(['Name', 'Cabin', 'Ticket'], axis=1)\n",
    "test_data = pd.read_csv(\"data/test.csv\")\n",
    "test_data = test_data.drop(['Name', 'Cabin', 'Ticket'], axis=1)\n",
    "\n",
    "con = train_data['Sex'] == 'female'\n",
    "con2 = train_data['Sex'] == 'male'\n",
    "\n",
    "train_data.loc[con, 'Age'] = train_data.loc[con, 'Age'].fillna(train_data.loc[con, 'Age'].mean())\n",
    "train_data.loc[con2, 'Age'] = train_data.loc[con2, 'Age'].fillna(train_data.loc[con2, 'Age'].mean())\n",
    "train_data['Embarked'] = train_data['Embarked'].fillna('S')\n",
    "\n",
    "test_data.loc[con, 'Age'] = test_data.loc[con, 'Age'].fillna(test_data.loc[con, 'Age'].mean())\n",
    "test_data.loc[con2, 'Age'] = test_data.loc[con2, 'Age'].fillna(test_data.loc[con2, 'Age'].mean())\n",
    "test_data['Embarked'] = test_data['Embarked'].fillna('S')\n",
    "\n",
    "train_target = train_data[\"Survived\"]\n",
    "features = ['Age', 'Fare', 'Pclass', 'Sex', 'SibSp']\n",
    "\n",
    "train_input = pd.get_dummies(train_data[features])\n",
    "test_input = pd.get_dummies(test_data[features])\n",
    "\n",
    "# 하이퍼파라미터 튜닝 (Grid Search)\n",
    "param_grid = {\n",
    "    'n_estimators': [50, 100, 200],\n",
    "    'max_depth': [5, 10],\n",
    "    'min_samples_split': [2, 5, 10],\n",
    "    'min_samples_leaf': [1, 2, 4],\n",
    "    'max_features': ['sqrt', 'log2'],\n",
    "    'random_state': [0, 20, 42]\n",
    "}\n",
    "\n",
    "grid_search = GridSearchCV(RandomForestClassifier(), param_grid, cv=5, scoring='accuracy', n_jobs=-1)\n",
    "grid_search.fit(train_input, train_target)\n",
    "\n",
    "# 최적의 하이퍼파라미터 출력\n",
    "print(\"최적의 하이퍼파라미터 조합:\", grid_search.best_params_)\n",
    "print(\"최적의:\", grid_search.best_score_)\n",
    "# 최적의 하이퍼파라미터로 모델 재학습\n",
    "best_params = grid_search.best_params_\n",
    "model = RandomForestClassifier(**best_params)\n",
    "model.fit(train_input, train_target)\n",
    "predictions = model.predict(test_input)\n",
    "\n",
    "# scores = cross_validate(model, train_input, train_target, return_train_score=True, n_jobs=1)\n",
    "# print(scores)\n",
    "# print(model.oob_score_)\n",
    "\n",
    "output = pd.DataFrame({'PassengerId': test_data.PassengerId, 'Survived': predictions})\n",
    "output.to_csv('submission.csv', index=False)\n",
    "print(\"Your submission was successfully saved!\")"
   ]
  },
  {
   "cell_type": "code",
   "execution_count": null,
   "id": "f6702ad8-8b11-4eed-bf42-435b35e8875c",
   "metadata": {},
   "outputs": [],
   "source": []
  }
 ],
 "metadata": {
  "kernelspec": {
   "display_name": "Python 3 (ipykernel)",
   "language": "python",
   "name": "python3"
  },
  "language_info": {
   "codemirror_mode": {
    "name": "ipython",
    "version": 3
   },
   "file_extension": ".py",
   "mimetype": "text/x-python",
   "name": "python",
   "nbconvert_exporter": "python",
   "pygments_lexer": "ipython3",
   "version": "3.13.2"
  }
 },
 "nbformat": 4,
 "nbformat_minor": 5
}
